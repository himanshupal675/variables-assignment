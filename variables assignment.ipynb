{
 "cells": [
  {
   "cell_type": "markdown",
   "id": "6b22d2c9-0d56-4181-8710-e570fdee9380",
   "metadata": {},
   "source": [
    "# Answer1 \n",
    "A variable name must start with a letter or an underscore character (_) A variable name cannot start with a digit. A variable name can only contain alpha-numeric characters and underscores ( a-z, A-Z , 0-9 , and _ ) Variable names are case-sensitive (age, Age and AGE are three different variables)"
   ]
  },
  {
   "cell_type": "markdown",
   "id": "f6edbae3-68da-4a86-8e15-cd75698b3cf2",
   "metadata": {},
   "source": [
    "# Answer 2\n",
    "Keywords define the language's syntax rules and structure, and they cannot be used as variable names. Programmers generally choose names for their variables that are meaningful to the human readers of the program to remember what the variable is used for."
   ]
  },
  {
   "cell_type": "markdown",
   "id": "ad76dee9-eccb-4db6-8e7b-dd98792b50f1",
   "metadata": {},
   "source": [
    "# Answer 3\n",
    "If we are given a string as input in our program, we can define a variable name with the string by adding the input string as a key into the symbol table. We can add a single character, numeric values, or strings as the associated value to the variable."
   ]
  },
  {
   "cell_type": "markdown",
   "id": "1ec996a3-818f-49c0-8e95-75e6bf5694d8",
   "metadata": {},
   "source": [
    "# Answer4\n",
    "You can create a variable and give it a value at that instant. ... It should only contain alpha-numeric characters and underscores (A-z, 0-9, and _ )."
   ]
  },
  {
   "cell_type": "markdown",
   "id": "e575b29f-4366-45ac-9036-2af997464fc0",
   "metadata": {},
   "source": [
    "# Answer 5\n",
    "Python is a dynamically typed language. 00:12 The Python interpreter does type checking only when the code runs. As you execute a line of code, as you'll see in an example next, that's when the type checking occurs. 00:23 And also, the type of a variable is allowed to change over its lifetime."
   ]
  },
  {
   "cell_type": "code",
   "execution_count": null,
   "id": "3762919c-eb8e-4bc2-937f-759f4bea8736",
   "metadata": {},
   "outputs": [],
   "source": []
  }
 ],
 "metadata": {
  "kernelspec": {
   "display_name": "Python 3 (ipykernel)",
   "language": "python",
   "name": "python3"
  },
  "language_info": {
   "codemirror_mode": {
    "name": "ipython",
    "version": 3
   },
   "file_extension": ".py",
   "mimetype": "text/x-python",
   "name": "python",
   "nbconvert_exporter": "python",
   "pygments_lexer": "ipython3",
   "version": "3.10.8"
  }
 },
 "nbformat": 4,
 "nbformat_minor": 5
}
